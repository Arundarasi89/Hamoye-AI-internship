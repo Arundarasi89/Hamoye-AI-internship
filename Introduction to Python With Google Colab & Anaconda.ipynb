{
 "cells": [
  {
   "cell_type": "code",
   "execution_count": 1,
   "metadata": {},
   "outputs": [],
   "source": [
    "#Installing Jupyter Notebook Using Google Colaboratory & Anaconda\n",
    "#Jupyter Notebook commands\n",
    "#first press esc "
   ]
  },
  {
   "cell_type": "markdown",
   "metadata": {},
   "source": [
    "Once in command mode:\n",
    "\n",
    "Scroll up and down your cells with your Up and Down keys.\n",
    "\n",
    "Press A or B to insert a new cell above or below the active cell.\n",
    "\n",
    "M will transform the active cell to a Markdown cell.\n",
    "\n",
    "Y will set the active cell to a code cell.\n",
    "\n",
    "D + D (D twice) will delete the active cell.\n",
    "\n",
    "Z will undo cell deletion.\n",
    "\n",
    "Hold Shift and press Up or Down to select multiple cells at once. With multiple cells selected, Shift + M will merge your selection.\n",
    "\n",
    "Ctrl + Shift + -, in edit mode, will split the active cell at the cursor.\n",
    "\n",
    "You can also click and Shift + Click in the margin to the left of your cells to select them."
   ]
  },
  {
   "cell_type": "code",
   "execution_count": 2,
   "metadata": {},
   "outputs": [],
   "source": [
    "a = 5"
   ]
  },
  {
   "cell_type": "code",
   "execution_count": 3,
   "metadata": {},
   "outputs": [
    {
     "name": "stdout",
     "output_type": "stream",
     "text": [
      "7\n"
     ]
    }
   ],
   "source": [
    "b = 2\n",
    "\n",
    "c = a+b\n",
    "\n",
    "print(c)"
   ]
  },
  {
   "cell_type": "code",
   "execution_count": 4,
   "metadata": {},
   "outputs": [],
   "source": [
    "#Python Basics"
   ]
  },
  {
   "cell_type": "code",
   "execution_count": 5,
   "metadata": {},
   "outputs": [],
   "source": [
    "#declaration\n",
    "school = 'Hamoye one school'"
   ]
  },
  {
   "cell_type": "code",
   "execution_count": 6,
   "metadata": {},
   "outputs": [],
   "source": [
    "#cannot concatenate a string and a number"
   ]
  },
  {
   "cell_type": "code",
   "execution_count": 7,
   "metadata": {},
   "outputs": [
    {
     "name": "stdout",
     "output_type": "stream",
     "text": [
      "my name is femi\n"
     ]
    }
   ],
   "source": [
    "first_name = 'femi'\n",
    "\n",
    "print('my name is {}'.format(first_name))"
   ]
  },
  {
   "cell_type": "code",
   "execution_count": 8,
   "metadata": {},
   "outputs": [
    {
     "name": "stdout",
     "output_type": "stream",
     "text": [
      "Hellow femi, you are +1 today\n"
     ]
    }
   ],
   "source": [
    "print(\"Hellow {}, you are +{} today\".format(first_name,1))"
   ]
  },
  {
   "cell_type": "code",
   "execution_count": 9,
   "metadata": {},
   "outputs": [
    {
     "name": "stdout",
     "output_type": "stream",
     "text": [
      "hello femi\n"
     ]
    }
   ],
   "source": [
    "print(f\"hello {first_name}\")"
   ]
  },
  {
   "cell_type": "code",
   "execution_count": 10,
   "metadata": {},
   "outputs": [],
   "source": [
    "word = \"animal\""
   ]
  },
  {
   "cell_type": "code",
   "execution_count": 11,
   "metadata": {},
   "outputs": [
    {
     "data": {
      "text/plain": [
       "'a'"
      ]
     },
     "execution_count": 11,
     "metadata": {},
     "output_type": "execute_result"
    }
   ],
   "source": [
    "word[0]"
   ]
  },
  {
   "cell_type": "code",
   "execution_count": 12,
   "metadata": {},
   "outputs": [
    {
     "data": {
      "text/plain": [
       "'n'"
      ]
     },
     "execution_count": 12,
     "metadata": {},
     "output_type": "execute_result"
    }
   ],
   "source": [
    "word[1]"
   ]
  },
  {
   "cell_type": "code",
   "execution_count": 13,
   "metadata": {},
   "outputs": [
    {
     "data": {
      "text/plain": [
       "'an'"
      ]
     },
     "execution_count": 13,
     "metadata": {},
     "output_type": "execute_result"
    }
   ],
   "source": [
    "word[0:2]"
   ]
  },
  {
   "cell_type": "code",
   "execution_count": 14,
   "metadata": {},
   "outputs": [],
   "source": [
    "#string manipulation"
   ]
  },
  {
   "cell_type": "code",
   "execution_count": 15,
   "metadata": {},
   "outputs": [
    {
     "data": {
      "text/plain": [
       "'Ayomide'"
      ]
     },
     "execution_count": 15,
     "metadata": {},
     "output_type": "execute_result"
    }
   ],
   "source": [
    "first = 'ayomide'\n",
    "first.title()"
   ]
  },
  {
   "cell_type": "code",
   "execution_count": 16,
   "metadata": {},
   "outputs": [
    {
     "name": "stdout",
     "output_type": "stream",
     "text": [
      "ARUNDARASI\n"
     ]
    }
   ],
   "source": [
    "print(\"arundarasi\".upper())"
   ]
  },
  {
   "cell_type": "code",
   "execution_count": 17,
   "metadata": {},
   "outputs": [
    {
     "name": "stdout",
     "output_type": "stream",
     "text": [
      "rrjanedn\n"
     ]
    }
   ],
   "source": [
    "print(\"rRJANEDN\".lower())"
   ]
  },
  {
   "cell_type": "code",
   "execution_count": 18,
   "metadata": {},
   "outputs": [
    {
     "name": "stdout",
     "output_type": "stream",
     "text": [
      "I am not Arundarasi Rajendran!\n"
     ]
    }
   ],
   "source": [
    "w = 'I am not Arundarasi Rajendran!'\n",
    "print(w)"
   ]
  },
  {
   "cell_type": "code",
   "execution_count": 19,
   "metadata": {},
   "outputs": [
    {
     "name": "stdout",
     "output_type": "stream",
     "text": [
      "I am not Arundarasi Rajendran.\n"
     ]
    }
   ],
   "source": [
    "\n",
    "print(w.replace('!','.'))"
   ]
  },
  {
   "cell_type": "code",
   "execution_count": 20,
   "metadata": {},
   "outputs": [
    {
     "name": "stdout",
     "output_type": "stream",
     "text": [
      "24\n"
     ]
    }
   ],
   "source": [
    "sentence = \"welcome to hamoye internship\"\n",
    "\n",
    "print(sentence.find('ship'))\n",
    "#returns index of character or word in sentence"
   ]
  },
  {
   "cell_type": "markdown",
   "metadata": {},
   "source": [
    "https://docs.python.org/3/tutorial/datastructures.html"
   ]
  },
  {
   "cell_type": "code",
   "execution_count": 21,
   "metadata": {},
   "outputs": [],
   "source": [
    "#LISTS\n",
    "#A list is a data structure in Python that is a mutable, ordered sequence of elements."
   ]
  },
  {
   "cell_type": "code",
   "execution_count": 22,
   "metadata": {},
   "outputs": [],
   "source": [
    "names = ['Tom','Anna']"
   ]
  },
  {
   "cell_type": "code",
   "execution_count": 23,
   "metadata": {},
   "outputs": [
    {
     "name": "stdout",
     "output_type": "stream",
     "text": [
      "Tom\n"
     ]
    }
   ],
   "source": [
    "print(names[0])"
   ]
  },
  {
   "cell_type": "code",
   "execution_count": 24,
   "metadata": {},
   "outputs": [],
   "source": [
    "list1 = [2, 9.7, \"word\", True]\n"
   ]
  },
  {
   "cell_type": "code",
   "execution_count": 25,
   "metadata": {},
   "outputs": [],
   "source": [
    "list2 = ['cat','dog',['fish','crocodile'],70]"
   ]
  },
  {
   "cell_type": "code",
   "execution_count": 26,
   "metadata": {},
   "outputs": [
    {
     "name": "stdout",
     "output_type": "stream",
     "text": [
      "['fish', 'crocodile']\n"
     ]
    }
   ],
   "source": [
    "print(list2[2])"
   ]
  },
  {
   "cell_type": "code",
   "execution_count": 27,
   "metadata": {},
   "outputs": [
    {
     "name": "stdout",
     "output_type": "stream",
     "text": [
      "cat\n"
     ]
    }
   ],
   "source": [
    "print(list2[0])"
   ]
  },
  {
   "cell_type": "code",
   "execution_count": 28,
   "metadata": {},
   "outputs": [],
   "source": [
    "list2=list1[2]"
   ]
  },
  {
   "cell_type": "code",
   "execution_count": 29,
   "metadata": {},
   "outputs": [
    {
     "name": "stdout",
     "output_type": "stream",
     "text": [
      "w\n"
     ]
    }
   ],
   "source": [
    "print(list2[0])"
   ]
  },
  {
   "cell_type": "code",
   "execution_count": 30,
   "metadata": {},
   "outputs": [
    {
     "name": "stdout",
     "output_type": "stream",
     "text": [
      "[25]\n"
     ]
    }
   ],
   "source": [
    "student1 = ['Tom','24','CS']\n",
    "\n",
    "student1 = [25]\n",
    "\n",
    "print(student1)"
   ]
  },
  {
   "cell_type": "code",
   "execution_count": 31,
   "metadata": {},
   "outputs": [],
   "source": [
    "#list functions"
   ]
  },
  {
   "cell_type": "markdown",
   "metadata": {},
   "source": [
    "sort(): Sorts the list in ascending order.\n",
    "type(list): It returns the class type of an object.\n",
    "append(): Adds a single element to a list.\n",
    "extend(): Adds multiple elements to a list.\n",
    "index(): Returns the first appearance of the specified value.\n",
    "max(list): It returns an item from the list with max value.\n",
    "min(list): It returns an item from the list with min value.\n",
    "len(list): It gives the total length of the list.\n",
    "list(seq): Converts a tuple into a list.\n",
    "cmp(list1, list2): It compares elements of both lists list1 and list2."
   ]
  },
  {
   "cell_type": "code",
   "execution_count": 32,
   "metadata": {},
   "outputs": [],
   "source": [
    "prices = [23.5, 4, 2.5,9.0]"
   ]
  },
  {
   "cell_type": "code",
   "execution_count": 33,
   "metadata": {},
   "outputs": [],
   "source": [
    "prices.sort()"
   ]
  },
  {
   "cell_type": "code",
   "execution_count": 34,
   "metadata": {},
   "outputs": [
    {
     "data": {
      "text/plain": [
       "[2.5, 4, 9.0, 23.5]"
      ]
     },
     "execution_count": 34,
     "metadata": {},
     "output_type": "execute_result"
    }
   ],
   "source": [
    "prices"
   ]
  },
  {
   "cell_type": "code",
   "execution_count": 35,
   "metadata": {},
   "outputs": [
    {
     "data": {
      "text/plain": [
       "list"
      ]
     },
     "execution_count": 35,
     "metadata": {},
     "output_type": "execute_result"
    }
   ],
   "source": [
    "type(prices)"
   ]
  },
  {
   "cell_type": "code",
   "execution_count": 36,
   "metadata": {},
   "outputs": [],
   "source": [
    "lt = [2,9.7,\"word\",True]"
   ]
  },
  {
   "cell_type": "code",
   "execution_count": 37,
   "metadata": {},
   "outputs": [
    {
     "data": {
      "text/plain": [
       "list"
      ]
     },
     "execution_count": 37,
     "metadata": {},
     "output_type": "execute_result"
    }
   ],
   "source": [
    "type(lt)"
   ]
  },
  {
   "cell_type": "code",
   "execution_count": 38,
   "metadata": {},
   "outputs": [],
   "source": [
    "weekdays = ['Monday','Tuesday']\n",
    "\n",
    "weekdays.append('Wednesday')"
   ]
  },
  {
   "cell_type": "code",
   "execution_count": 39,
   "metadata": {},
   "outputs": [
    {
     "data": {
      "text/plain": [
       "['Monday', 'Tuesday', 'Wednesday']"
      ]
     },
     "execution_count": 39,
     "metadata": {},
     "output_type": "execute_result"
    }
   ],
   "source": [
    "weekdays"
   ]
  },
  {
   "cell_type": "code",
   "execution_count": 40,
   "metadata": {},
   "outputs": [],
   "source": [
    "weekdays.extend(['Thursday','Friday'])"
   ]
  },
  {
   "cell_type": "code",
   "execution_count": 41,
   "metadata": {},
   "outputs": [
    {
     "data": {
      "text/plain": [
       "['Monday', 'Tuesday', 'Wednesday', 'Thursday', 'Friday']"
      ]
     },
     "execution_count": 41,
     "metadata": {},
     "output_type": "execute_result"
    }
   ],
   "source": [
    "weekdays"
   ]
  },
  {
   "cell_type": "code",
   "execution_count": 42,
   "metadata": {},
   "outputs": [
    {
     "data": {
      "text/plain": [
       "2"
      ]
     },
     "execution_count": 42,
     "metadata": {},
     "output_type": "execute_result"
    }
   ],
   "source": [
    "weekdays.index(\"Wednesday\")"
   ]
  },
  {
   "cell_type": "code",
   "execution_count": 43,
   "metadata": {},
   "outputs": [],
   "source": [
    "Ages = [3,5,7]"
   ]
  },
  {
   "cell_type": "code",
   "execution_count": 44,
   "metadata": {},
   "outputs": [
    {
     "name": "stdout",
     "output_type": "stream",
     "text": [
      "7 is the highest age\n"
     ]
    }
   ],
   "source": [
    "print(\"{} is the highest age\".format(max(Ages)))"
   ]
  },
  {
   "cell_type": "code",
   "execution_count": 45,
   "metadata": {},
   "outputs": [
    {
     "name": "stdout",
     "output_type": "stream",
     "text": [
      "3 is the highest age\n"
     ]
    }
   ],
   "source": [
    "print(f\"{min(Ages)} is the highest age\")"
   ]
  },
  {
   "cell_type": "code",
   "execution_count": 46,
   "metadata": {},
   "outputs": [
    {
     "data": {
      "text/plain": [
       "5"
      ]
     },
     "execution_count": 46,
     "metadata": {},
     "output_type": "execute_result"
    }
   ],
   "source": [
    "len(weekdays)"
   ]
  },
  {
   "cell_type": "code",
   "execution_count": 47,
   "metadata": {},
   "outputs": [],
   "source": [
    "#the list function takes an iterable construct and turns it into a list"
   ]
  },
  {
   "cell_type": "code",
   "execution_count": 48,
   "metadata": {},
   "outputs": [],
   "source": [
    "s1 = 'Python'"
   ]
  },
  {
   "cell_type": "code",
   "execution_count": 49,
   "metadata": {},
   "outputs": [],
   "source": [
    "list1 = list(s1)"
   ]
  },
  {
   "cell_type": "code",
   "execution_count": 50,
   "metadata": {},
   "outputs": [
    {
     "data": {
      "text/plain": [
       "['P', 'y', 't', 'h', 'o', 'n']"
      ]
     },
     "execution_count": 50,
     "metadata": {},
     "output_type": "execute_result"
    }
   ],
   "source": [
    "list1"
   ]
  },
  {
   "cell_type": "code",
   "execution_count": 51,
   "metadata": {},
   "outputs": [],
   "source": [
    "s2 = 'Lython'"
   ]
  },
  {
   "cell_type": "code",
   "execution_count": 52,
   "metadata": {},
   "outputs": [],
   "source": [
    "list2 = list(s2)"
   ]
  },
  {
   "cell_type": "code",
   "execution_count": 53,
   "metadata": {},
   "outputs": [
    {
     "data": {
      "text/plain": [
       "['L', 'y', 't', 'h', 'o', 'n']"
      ]
     },
     "execution_count": 53,
     "metadata": {},
     "output_type": "execute_result"
    }
   ],
   "source": [
    "list2"
   ]
  },
  {
   "cell_type": "code",
   "execution_count": 54,
   "metadata": {},
   "outputs": [],
   "source": [
    "#TUPLES\n",
    "#An ordered sequence of items, and they cannot be changed (immutable)\n",
    "#you cannot add or remove values\n",
    "#you can find elements in a tuple\n",
    "#you can also use the in operator to check if an element exists in tuple"
   ]
  },
  {
   "cell_type": "code",
   "execution_count": 55,
   "metadata": {},
   "outputs": [],
   "source": [
    "#declaration\n",
    "\n",
    "empty_tuple = ()"
   ]
  },
  {
   "cell_type": "code",
   "execution_count": 56,
   "metadata": {},
   "outputs": [],
   "source": [
    "emp_tuple = tuple()"
   ]
  },
  {
   "cell_type": "code",
   "execution_count": 57,
   "metadata": {},
   "outputs": [],
   "source": [
    "#you can access values in tuple"
   ]
  },
  {
   "cell_type": "code",
   "execution_count": 58,
   "metadata": {},
   "outputs": [],
   "source": [
    "scores = (2.4, 6.9, 3.6, 8.3, 2.0, 4.5)"
   ]
  },
  {
   "cell_type": "code",
   "execution_count": 59,
   "metadata": {},
   "outputs": [
    {
     "data": {
      "text/plain": [
       "2.0"
      ]
     },
     "execution_count": 59,
     "metadata": {},
     "output_type": "execute_result"
    }
   ],
   "source": [
    "scores[4]"
   ]
  },
  {
   "cell_type": "code",
   "execution_count": 60,
   "metadata": {},
   "outputs": [],
   "source": [
    "#you can add two tuples together to create a new tuple"
   ]
  },
  {
   "cell_type": "code",
   "execution_count": 61,
   "metadata": {},
   "outputs": [],
   "source": [
    "t1 = (2.4,6.9,3.6,8.3,2.0,4.5)\n",
    "t2 = (1,2,3,4,5,6)"
   ]
  },
  {
   "cell_type": "code",
   "execution_count": 62,
   "metadata": {},
   "outputs": [],
   "source": [
    "new = t1+t2"
   ]
  },
  {
   "cell_type": "code",
   "execution_count": 63,
   "metadata": {},
   "outputs": [
    {
     "data": {
      "text/plain": [
       "(2.4, 6.9, 3.6, 8.3, 2.0, 4.5, 1, 2, 3, 4, 5, 6)"
      ]
     },
     "execution_count": 63,
     "metadata": {},
     "output_type": "execute_result"
    }
   ],
   "source": [
    "new"
   ]
  },
  {
   "cell_type": "code",
   "execution_count": 64,
   "metadata": {},
   "outputs": [],
   "source": [
    "#you can delete a tuple by using the del keyword followed by the name of the tuple\n"
   ]
  },
  {
   "cell_type": "code",
   "execution_count": 65,
   "metadata": {},
   "outputs": [],
   "source": [
    "del t1"
   ]
  },
  {
   "cell_type": "code",
   "execution_count": 66,
   "metadata": {},
   "outputs": [
    {
     "ename": "NameError",
     "evalue": "name 't1' is not defined",
     "output_type": "error",
     "traceback": [
      "\u001b[0;31m---------------------------------------------------------------------------\u001b[0m",
      "\u001b[0;31mNameError\u001b[0m                                 Traceback (most recent call last)",
      "\u001b[0;32m<ipython-input-66-5db19043943a>\u001b[0m in \u001b[0;36m<module>\u001b[0;34m\u001b[0m\n\u001b[0;32m----> 1\u001b[0;31m \u001b[0mt1\u001b[0m\u001b[0;34m\u001b[0m\u001b[0;34m\u001b[0m\u001b[0m\n\u001b[0m",
      "\u001b[0;31mNameError\u001b[0m: name 't1' is not defined"
     ]
    }
   ],
   "source": [
    "t1"
   ]
  },
  {
   "cell_type": "code",
   "execution_count": null,
   "metadata": {},
   "outputs": [],
   "source": [
    "#SETS\n",
    "#An unordered collection of unique items, does not allow duplicate items, they are unindexed (cannot access via index) and they are mutable.\n",
    "#Commonly used for computing mathematical operations like union, intersection, difference, and symmetric difference.\n",
    "#you can add or remove values"
   ]
  },
  {
   "cell_type": "code",
   "execution_count": 67,
   "metadata": {},
   "outputs": [
    {
     "data": {
      "text/plain": [
       "{'blue', 'green', 'red'}"
      ]
     },
     "execution_count": 67,
     "metadata": {},
     "output_type": "execute_result"
    }
   ],
   "source": [
    "#declaration\n",
    "c = {'red','blue','green'}\n",
    "c"
   ]
  },
  {
   "cell_type": "code",
   "execution_count": 68,
   "metadata": {},
   "outputs": [
    {
     "data": {
      "text/plain": [
       "{'green', 'orange', 'red'}"
      ]
     },
     "execution_count": 68,
     "metadata": {},
     "output_type": "execute_result"
    }
   ],
   "source": [
    "c1 = set(['red','green','orange'])\n",
    "c1"
   ]
  },
  {
   "cell_type": "code",
   "execution_count": 69,
   "metadata": {},
   "outputs": [
    {
     "data": {
      "text/plain": [
       "{'black', 'orange', 'pink', 'red'}"
      ]
     },
     "execution_count": 69,
     "metadata": {},
     "output_type": "execute_result"
    }
   ],
   "source": [
    "c2 = set(['red','black','black','orange','pink'])\n",
    "c2"
   ]
  },
  {
   "cell_type": "code",
   "execution_count": 70,
   "metadata": {},
   "outputs": [
    {
     "data": {
      "text/plain": [
       "['black', 'red', 'pink', 'orange']"
      ]
     },
     "execution_count": 70,
     "metadata": {},
     "output_type": "execute_result"
    }
   ],
   "source": [
    "c3 = list(c2)\n",
    "c3"
   ]
  },
  {
   "cell_type": "code",
   "execution_count": 71,
   "metadata": {},
   "outputs": [],
   "source": [
    "name = {'Arunda','Rajendran','Sasikala','Ambaal'}"
   ]
  },
  {
   "cell_type": "code",
   "execution_count": 72,
   "metadata": {},
   "outputs": [],
   "source": [
    "name.add('Satish')"
   ]
  },
  {
   "cell_type": "code",
   "execution_count": 73,
   "metadata": {},
   "outputs": [
    {
     "data": {
      "text/plain": [
       "{'Ambaal', 'Arunda', 'Rajendran', 'Sasikala', 'Satish'}"
      ]
     },
     "execution_count": 73,
     "metadata": {},
     "output_type": "execute_result"
    }
   ],
   "source": [
    "name"
   ]
  },
  {
   "cell_type": "code",
   "execution_count": 74,
   "metadata": {},
   "outputs": [],
   "source": [
    "name.update(['Jagan','Sony','Jayamalini','Yamini','Agilan','Sittappa'])"
   ]
  },
  {
   "cell_type": "code",
   "execution_count": 75,
   "metadata": {},
   "outputs": [
    {
     "data": {
      "text/plain": [
       "{'Agilan',\n",
       " 'Ambaal',\n",
       " 'Arunda',\n",
       " 'Jagan',\n",
       " 'Jayamalini',\n",
       " 'Rajendran',\n",
       " 'Sasikala',\n",
       " 'Satish',\n",
       " 'Sittappa',\n",
       " 'Sony',\n",
       " 'Yamini'}"
      ]
     },
     "execution_count": 75,
     "metadata": {},
     "output_type": "execute_result"
    }
   ],
   "source": [
    "name"
   ]
  },
  {
   "cell_type": "code",
   "execution_count": 76,
   "metadata": {},
   "outputs": [],
   "source": [
    "name.remove('Sittappa')"
   ]
  },
  {
   "cell_type": "code",
   "execution_count": 77,
   "metadata": {},
   "outputs": [
    {
     "data": {
      "text/plain": [
       "{'Agilan',\n",
       " 'Ambaal',\n",
       " 'Arunda',\n",
       " 'Jagan',\n",
       " 'Jayamalini',\n",
       " 'Rajendran',\n",
       " 'Sasikala',\n",
       " 'Satish',\n",
       " 'Sony',\n",
       " 'Yamini'}"
      ]
     },
     "execution_count": 77,
     "metadata": {},
     "output_type": "execute_result"
    }
   ],
   "source": [
    "name"
   ]
  },
  {
   "cell_type": "code",
   "execution_count": 78,
   "metadata": {},
   "outputs": [],
   "source": [
    "name.discard('Sony')"
   ]
  },
  {
   "cell_type": "code",
   "execution_count": 79,
   "metadata": {},
   "outputs": [
    {
     "data": {
      "text/plain": [
       "{'Agilan',\n",
       " 'Ambaal',\n",
       " 'Arunda',\n",
       " 'Jagan',\n",
       " 'Jayamalini',\n",
       " 'Rajendran',\n",
       " 'Sasikala',\n",
       " 'Satish',\n",
       " 'Yamini'}"
      ]
     },
     "execution_count": 79,
     "metadata": {},
     "output_type": "execute_result"
    }
   ],
   "source": [
    "name"
   ]
  },
  {
   "cell_type": "code",
   "execution_count": 80,
   "metadata": {},
   "outputs": [],
   "source": [
    "colors = set(['red','black','white','green'])"
   ]
  },
  {
   "cell_type": "code",
   "execution_count": 81,
   "metadata": {},
   "outputs": [
    {
     "data": {
      "text/plain": [
       "4"
      ]
     },
     "execution_count": 81,
     "metadata": {},
     "output_type": "execute_result"
    }
   ],
   "source": [
    "len(colors)"
   ]
  },
  {
   "cell_type": "code",
   "execution_count": 82,
   "metadata": {},
   "outputs": [],
   "source": [
    "#you can perform set operations"
   ]
  },
  {
   "cell_type": "code",
   "execution_count": 83,
   "metadata": {},
   "outputs": [],
   "source": [
    "#set union"
   ]
  },
  {
   "cell_type": "code",
   "execution_count": 84,
   "metadata": {},
   "outputs": [],
   "source": [
    "A={'red','green','blue'}\n",
    "B={'yellow','red','orange'}"
   ]
  },
  {
   "cell_type": "code",
   "execution_count": 85,
   "metadata": {},
   "outputs": [
    {
     "name": "stdout",
     "output_type": "stream",
     "text": [
      "{'red', 'green', 'blue', 'yellow', 'orange'}\n"
     ]
    }
   ],
   "source": [
    "print(A|B)"
   ]
  },
  {
   "cell_type": "code",
   "execution_count": 86,
   "metadata": {},
   "outputs": [
    {
     "name": "stdout",
     "output_type": "stream",
     "text": [
      "{'red', 'green', 'blue', 'yellow', 'orange'}\n"
     ]
    }
   ],
   "source": [
    "print(A.union(B))"
   ]
  },
  {
   "cell_type": "code",
   "execution_count": 87,
   "metadata": {},
   "outputs": [],
   "source": [
    "#set intersection"
   ]
  },
  {
   "cell_type": "code",
   "execution_count": 88,
   "metadata": {},
   "outputs": [
    {
     "name": "stdout",
     "output_type": "stream",
     "text": [
      "{'red'}\n"
     ]
    }
   ],
   "source": [
    "print(A&B)"
   ]
  },
  {
   "cell_type": "code",
   "execution_count": 89,
   "metadata": {},
   "outputs": [
    {
     "name": "stdout",
     "output_type": "stream",
     "text": [
      "{'red'}\n"
     ]
    }
   ],
   "source": [
    "print(A.intersection(B))"
   ]
  },
  {
   "cell_type": "code",
   "execution_count": 90,
   "metadata": {},
   "outputs": [
    {
     "name": "stdout",
     "output_type": "stream",
     "text": [
      "None\n"
     ]
    }
   ],
   "source": [
    "print(A.intersection_update(B))"
   ]
  },
  {
   "cell_type": "code",
   "execution_count": 91,
   "metadata": {},
   "outputs": [],
   "source": [
    "#set difference"
   ]
  },
  {
   "cell_type": "code",
   "execution_count": 92,
   "metadata": {},
   "outputs": [
    {
     "name": "stdout",
     "output_type": "stream",
     "text": [
      "set()\n"
     ]
    }
   ],
   "source": [
    "print(A-B)"
   ]
  },
  {
   "cell_type": "code",
   "execution_count": 93,
   "metadata": {},
   "outputs": [
    {
     "name": "stdout",
     "output_type": "stream",
     "text": [
      "set()\n"
     ]
    }
   ],
   "source": [
    "print(A.difference(B))"
   ]
  },
  {
   "cell_type": "code",
   "execution_count": 94,
   "metadata": {},
   "outputs": [
    {
     "name": "stdout",
     "output_type": "stream",
     "text": [
      "None\n"
     ]
    }
   ],
   "source": [
    "print(A.difference_update(B))"
   ]
  },
  {
   "cell_type": "code",
   "execution_count": 95,
   "metadata": {},
   "outputs": [],
   "source": [
    "#set symmetric difference between two or more sets"
   ]
  },
  {
   "cell_type": "code",
   "execution_count": 96,
   "metadata": {},
   "outputs": [
    {
     "name": "stdout",
     "output_type": "stream",
     "text": [
      "{'red', 'orange', 'yellow'}\n"
     ]
    }
   ],
   "source": [
    "print(A^B)"
   ]
  },
  {
   "cell_type": "code",
   "execution_count": 97,
   "metadata": {},
   "outputs": [
    {
     "name": "stdout",
     "output_type": "stream",
     "text": [
      "{'red', 'orange', 'yellow'}\n"
     ]
    }
   ],
   "source": [
    "print(A.symmetric_difference(B))"
   ]
  },
  {
   "cell_type": "code",
   "execution_count": 98,
   "metadata": {},
   "outputs": [
    {
     "name": "stdout",
     "output_type": "stream",
     "text": [
      "None\n"
     ]
    }
   ],
   "source": [
    "print(A.symmetric_difference_update(B))"
   ]
  },
  {
   "cell_type": "code",
   "execution_count": 99,
   "metadata": {},
   "outputs": [],
   "source": [
    "#check if two sets have elements in common"
   ]
  },
  {
   "cell_type": "code",
   "execution_count": 100,
   "metadata": {},
   "outputs": [
    {
     "name": "stdout",
     "output_type": "stream",
     "text": [
      "False\n"
     ]
    }
   ],
   "source": [
    "print(A.isdisjoint(B))"
   ]
  },
  {
   "cell_type": "code",
   "execution_count": 101,
   "metadata": {},
   "outputs": [],
   "source": [
    "#check if one set is a subset of other"
   ]
  },
  {
   "cell_type": "code",
   "execution_count": 102,
   "metadata": {},
   "outputs": [
    {
     "name": "stdout",
     "output_type": "stream",
     "text": [
      "True\n"
     ]
    }
   ],
   "source": [
    "print(A.issubset(B))"
   ]
  },
  {
   "cell_type": "code",
   "execution_count": 103,
   "metadata": {},
   "outputs": [],
   "source": [
    "#check if one set is a superset of the other"
   ]
  },
  {
   "cell_type": "code",
   "execution_count": 104,
   "metadata": {},
   "outputs": [
    {
     "name": "stdout",
     "output_type": "stream",
     "text": [
      "True\n"
     ]
    }
   ],
   "source": [
    "print(A.issuperset(B))"
   ]
  },
  {
   "cell_type": "code",
   "execution_count": 105,
   "metadata": {},
   "outputs": [],
   "source": [
    "#DICTIONARIES\n",
    "#Dictionaries are Pythons implementation of a data structure,generally known as associative arrays, hashes, or hashmaps. \n",
    "#Think of a dictionary as a mapping between a set of indexes (known as keys) and a set of values. Each key maps to a value.\n",
    "#it contains key value pairs or somtimes an item."
   ]
  },
  {
   "cell_type": "code",
   "execution_count": 106,
   "metadata": {},
   "outputs": [],
   "source": [
    "#declaration\n",
    "e1 = {'name':'Arunda','Age':23,'Internship track':'Data Science','city':'Kampala'}"
   ]
  },
  {
   "cell_type": "code",
   "execution_count": 107,
   "metadata": {},
   "outputs": [
    {
     "name": "stdout",
     "output_type": "stream",
     "text": [
      "{'name': 'Arunda', 'Age': 23, 'Internship track': 'Data Science', 'city': 'Kampala'}\n"
     ]
    }
   ],
   "source": [
    "print(e1)"
   ]
  },
  {
   "cell_type": "code",
   "execution_count": 108,
   "metadata": {},
   "outputs": [
    {
     "data": {
      "text/plain": [
       "{'ID': 'Tom', 'Role': 'Accountant', 'Salary': '50000'}"
      ]
     },
     "execution_count": 108,
     "metadata": {},
     "output_type": "execute_result"
    }
   ],
   "source": [
    "keys = ['ID','Role','Salary']\n",
    "values = ['Tom','Accountant','50000']\n",
    "D = dict(zip(keys,values))\n",
    "D"
   ]
  },
  {
   "cell_type": "code",
   "execution_count": 109,
   "metadata": {},
   "outputs": [],
   "source": [
    "#important properties of a dictionary\n",
    "#few points you should be aware of when using them\n",
    "#keys must be unique\n",
    "#a key can appear in a dictionary only once"
   ]
  },
  {
   "cell_type": "code",
   "execution_count": 110,
   "metadata": {},
   "outputs": [],
   "source": [
    "#Even if you specify a key more than once during the creation of a dictionary, the last value for that key becomes the associated value.\n",
    "\n",
    "e1 = {'name':'Arunda','Age':23,'Internship track':'Data Science','city':'Kampala','name':'Tara'}"
   ]
  },
  {
   "cell_type": "code",
   "execution_count": 111,
   "metadata": {},
   "outputs": [
    {
     "data": {
      "text/plain": [
       "{'name': 'Tara',\n",
       " 'Age': 23,\n",
       " 'Internship track': 'Data Science',\n",
       " 'city': 'Kampala'}"
      ]
     },
     "execution_count": 111,
     "metadata": {},
     "output_type": "execute_result"
    }
   ],
   "source": [
    "e1"
   ]
  },
  {
   "cell_type": "code",
   "execution_count": 112,
   "metadata": {},
   "outputs": [
    {
     "data": {
      "text/plain": [
       "23"
      ]
     },
     "execution_count": 112,
     "metadata": {},
     "output_type": "execute_result"
    }
   ],
   "source": [
    "#access dictionary items using the key name not indexes\n",
    "e1['Age']"
   ]
  },
  {
   "cell_type": "code",
   "execution_count": 113,
   "metadata": {},
   "outputs": [
    {
     "data": {
      "text/plain": [
       "'Tara'"
      ]
     },
     "execution_count": 113,
     "metadata": {},
     "output_type": "execute_result"
    }
   ],
   "source": [
    "e1.get('name')"
   ]
  },
  {
   "cell_type": "code",
   "execution_count": 114,
   "metadata": {},
   "outputs": [],
   "source": [
    "e1.get('Salary')\n",
    "#prints nothing"
   ]
  },
  {
   "cell_type": "code",
   "execution_count": 115,
   "metadata": {},
   "outputs": [],
   "source": [
    "#you can add or update dictionary items"
   ]
  },
  {
   "cell_type": "code",
   "execution_count": 116,
   "metadata": {},
   "outputs": [
    {
     "data": {
      "text/plain": [
       "{'Name': 'Bob', 'Age': 25, 'Job': 'Devops'}"
      ]
     },
     "execution_count": 116,
     "metadata": {},
     "output_type": "execute_result"
    }
   ],
   "source": [
    "D = {'Name':'Bob','Age':25,'Job':'Devops'}\n",
    "D"
   ]
  },
  {
   "cell_type": "code",
   "execution_count": 117,
   "metadata": {},
   "outputs": [],
   "source": [
    "#updating\n",
    "D['Name']='Sam'"
   ]
  },
  {
   "cell_type": "code",
   "execution_count": 118,
   "metadata": {},
   "outputs": [
    {
     "data": {
      "text/plain": [
       "{'Name': 'Sam', 'Age': 25, 'Job': 'Devops'}"
      ]
     },
     "execution_count": 118,
     "metadata": {},
     "output_type": "execute_result"
    }
   ],
   "source": [
    "D"
   ]
  },
  {
   "cell_type": "code",
   "execution_count": 119,
   "metadata": {},
   "outputs": [],
   "source": [
    "#adding\n",
    "D['Salary'] = 50000"
   ]
  },
  {
   "cell_type": "code",
   "execution_count": 120,
   "metadata": {},
   "outputs": [
    {
     "data": {
      "text/plain": [
       "{'Name': 'Sam', 'Age': 25, 'Job': 'Devops', 'Salary': 50000}"
      ]
     },
     "execution_count": 120,
     "metadata": {},
     "output_type": "execute_result"
    }
   ],
   "source": [
    "D"
   ]
  },
  {
   "cell_type": "code",
   "execution_count": 121,
   "metadata": {},
   "outputs": [],
   "source": [
    "#merge two dictionaries\n",
    "D1 = {'name':'Bob','age':25,'job':'Dev'}\n",
    "D2 = {'age':38,'city':'New York','email':'bob@web.com'}"
   ]
  },
  {
   "cell_type": "code",
   "execution_count": 122,
   "metadata": {},
   "outputs": [],
   "source": [
    "D1.update(D2)"
   ]
  },
  {
   "cell_type": "code",
   "execution_count": 123,
   "metadata": {},
   "outputs": [
    {
     "data": {
      "text/plain": [
       "{'name': 'Bob',\n",
       " 'age': 38,\n",
       " 'job': 'Dev',\n",
       " 'city': 'New York',\n",
       " 'email': 'bob@web.com'}"
      ]
     },
     "execution_count": 123,
     "metadata": {},
     "output_type": "execute_result"
    }
   ],
   "source": [
    "D1"
   ]
  },
  {
   "cell_type": "code",
   "execution_count": 124,
   "metadata": {},
   "outputs": [
    {
     "data": {
      "text/plain": [
       "{'Name': 'Bob', 'Job': 'Devops'}"
      ]
     },
     "execution_count": 124,
     "metadata": {},
     "output_type": "execute_result"
    }
   ],
   "source": [
    "#remove dictionary items\n",
    "#1. remove an item by key - use pop()\n",
    "\n",
    "D = {'Name':'Bob','Age':25,'Job':'Devops'}\n",
    "x = D.pop('Age')\n",
    "D"
   ]
  },
  {
   "cell_type": "code",
   "execution_count": 125,
   "metadata": {},
   "outputs": [
    {
     "name": "stdout",
     "output_type": "stream",
     "text": [
      "25\n"
     ]
    }
   ],
   "source": [
    "#removed value\n",
    "print(x)"
   ]
  },
  {
   "cell_type": "code",
   "execution_count": 126,
   "metadata": {},
   "outputs": [],
   "source": [
    "#2. if you do not want removed value - use del statement\n",
    "D = {'Name':'Bob','Age':25,'Job':'Devops'}\n",
    "\n",
    "del D['Name']"
   ]
  },
  {
   "cell_type": "code",
   "execution_count": 127,
   "metadata": {},
   "outputs": [
    {
     "data": {
      "text/plain": [
       "{'Age': 25, 'Job': 'Devops'}"
      ]
     },
     "execution_count": 127,
     "metadata": {},
     "output_type": "execute_result"
    }
   ],
   "source": [
    "D"
   ]
  },
  {
   "cell_type": "code",
   "execution_count": 128,
   "metadata": {},
   "outputs": [
    {
     "data": {
      "text/plain": [
       "{'Name': 'Bob', 'Age': 25, 'Job': 'Devops'}"
      ]
     },
     "execution_count": 128,
     "metadata": {},
     "output_type": "execute_result"
    }
   ],
   "source": [
    "#3. Remove all items\n",
    "D = {'Name':'Bob','Age':25,'Job':'Devops'}\n",
    "D"
   ]
  },
  {
   "cell_type": "code",
   "execution_count": 129,
   "metadata": {},
   "outputs": [
    {
     "data": {
      "text/plain": [
       "{}"
      ]
     },
     "execution_count": 129,
     "metadata": {},
     "output_type": "execute_result"
    }
   ],
   "source": [
    "D.clear()\n",
    "D"
   ]
  },
  {
   "cell_type": "code",
   "execution_count": 130,
   "metadata": {},
   "outputs": [
    {
     "name": "stdout",
     "output_type": "stream",
     "text": [
      "10\n",
      "go!\n",
      "9\n",
      "go!\n",
      "8\n",
      "go!\n",
      "7\n",
      "go!\n",
      "6\n",
      "go!\n",
      "5\n",
      "go!\n",
      "4\n",
      "go!\n",
      "3\n",
      "go!\n",
      "2\n",
      "go!\n",
      "1\n",
      "go!\n"
     ]
    }
   ],
   "source": [
    "#WHILE LOOPS\n",
    "x = 10\n",
    "\n",
    "while x>0:\n",
    "    print(x)\n",
    "    x = x-1\n",
    "    print(\"go!\")"
   ]
  },
  {
   "cell_type": "markdown",
   "metadata": {},
   "source": [
    "#PYTHON BREAK AND CONTINUE STATEMENTS\n",
    "\n",
    "BREAK - The Python break statement immediately terminates a loop entirely. Program execution proceeds to the first statement following the loop body.\n",
    "CONTINUE -  The Python continue statement immediately terminates the current loop iteration. Execution jumps to the top of the loop, and the controlling expression is re-evaluated to determine whether the loop will execute again or terminate.\n"
   ]
  },
  {
   "cell_type": "code",
   "execution_count": 131,
   "metadata": {},
   "outputs": [
    {
     "name": "stdout",
     "output_type": "stream",
     "text": [
      "0\n",
      "1\n",
      "2\n",
      "3\n",
      "4\n"
     ]
    }
   ],
   "source": [
    "#BREAK\n",
    "x = 0\n",
    "n=10\n",
    "while x<=n:\n",
    "    print(x)\n",
    "    if x==4:\n",
    "        break\n",
    "    x=x+1\n"
   ]
  },
  {
   "cell_type": "code",
   "execution_count": 132,
   "metadata": {},
   "outputs": [
    {
     "name": "stdout",
     "output_type": "stream",
     "text": [
      "4\n",
      "3\n",
      "1\n",
      "0\n",
      "Loop ended.\n"
     ]
    }
   ],
   "source": [
    "#CONTINUE\n",
    "n=5\n",
    "while n>0:\n",
    "    n=n-1\n",
    "    if n==2:\n",
    "        continue\n",
    "    print(n)\n",
    "    \n",
    "print('Loop ended.')"
   ]
  },
  {
   "cell_type": "code",
   "execution_count": 134,
   "metadata": {},
   "outputs": [],
   "source": [
    "#Functions\n",
    "\n",
    "#first step to code reuse\n",
    "#allow you to define a reusable block of code that can be used repeatedly in a program.\n",
    "#python provides several built-in functions such as print(),len() or type() but you can also define your own functions to use within your programs. \n"
   ]
  },
  {
   "cell_type": "code",
   "execution_count": 135,
   "metadata": {},
   "outputs": [
    {
     "name": "stdout",
     "output_type": "stream",
     "text": [
      "Arunda\n"
     ]
    }
   ],
   "source": [
    "#declaration\n",
    "\n",
    "#def function_name(arguments):\n",
    "#    statement\n",
    "#    return value\n",
    "\n",
    "\n",
    "#function_name is the name of the function you wish to define, it has the same naming convention as a variable\n",
    "#statement is the function's body, it is executed whenever the function is called\n",
    "#return value ends the function call and sends data back to the program\n",
    "\n",
    "#pass arguments\n",
    "#you can send information to a function by passing values, known as arguments. \n",
    "#Arguments are declared after the function name in parentheses. \n",
    "#When you call a function with arguments, the values of those arguments are copied to their corresponding parameters inside the function. \n",
    "#you can send as many arguemnts as you like seperated by commas\n",
    "\n",
    "def name(n):\n",
    "    print(n)\n",
    "\n",
    "s = 'Arunda'\n",
    "name(s)"
   ]
  },
  {
   "cell_type": "code",
   "execution_count": 136,
   "metadata": {},
   "outputs": [],
   "source": [
    "#types of arguments"
   ]
  },
  {
   "cell_type": "code",
   "execution_count": 137,
   "metadata": {},
   "outputs": [],
   "source": [
    "#1.positional arguments\n",
    "#most common one, whose values are copied to their corresponding parameters in order\n"
   ]
  },
  {
   "cell_type": "code",
   "execution_count": 138,
   "metadata": {},
   "outputs": [
    {
     "name": "stdout",
     "output_type": "stream",
     "text": [
      "Bob is a developer\n"
     ]
    }
   ],
   "source": [
    "def func(name,job):\n",
    "    print(name,'is a',job)\n",
    "\n",
    "func('Bob','developer')\n",
    "#the only downside of positional arguments is that you need to pass arguments in the order in which they are defined.\n"
   ]
  },
  {
   "cell_type": "code",
   "execution_count": 139,
   "metadata": {},
   "outputs": [],
   "source": [
    "#2.Keyword arguments\n",
    "#to avoid positional argument confusion, you can pass arguments using the names of their corresponding parameters\n",
    "#in this case, the order of the arguments no longer matters because arguments are matched by name, not by position."
   ]
  },
  {
   "cell_type": "code",
   "execution_count": 140,
   "metadata": {},
   "outputs": [
    {
     "name": "stdout",
     "output_type": "stream",
     "text": [
      "Tom is a computer programmer\n"
     ]
    }
   ],
   "source": [
    "func(name='Tom',job='computer programmer')"
   ]
  },
  {
   "cell_type": "code",
   "execution_count": 141,
   "metadata": {},
   "outputs": [
    {
     "name": "stdout",
     "output_type": "stream",
     "text": [
      "Arunda is a business analyst\n"
     ]
    }
   ],
   "source": [
    "func(job='business analyst',name='Arunda')"
   ]
  },
  {
   "cell_type": "code",
   "execution_count": 142,
   "metadata": {},
   "outputs": [],
   "source": [
    "#3.Default arguments\n",
    "#you can specify default values for arguments when defining a function\n",
    "#the default value is used if the function is called without a corresponding argument \n",
    "#in short, defaults allow you to make selected arguments optional\n"
   ]
  },
  {
   "cell_type": "code",
   "execution_count": 145,
   "metadata": {},
   "outputs": [],
   "source": [
    "def func(name,job='developer'):\n",
    "    print(name,'is a',job)"
   ]
  },
  {
   "cell_type": "code",
   "execution_count": 146,
   "metadata": {},
   "outputs": [
    {
     "name": "stdout",
     "output_type": "stream",
     "text": [
      "Bob is a Manager\n"
     ]
    }
   ],
   "source": [
    "func('Bob','Manager')"
   ]
  },
  {
   "cell_type": "code",
   "execution_count": 147,
   "metadata": {},
   "outputs": [
    {
     "name": "stdout",
     "output_type": "stream",
     "text": [
      "Riya is a developer\n"
     ]
    }
   ],
   "source": [
    "func('Riya')"
   ]
  },
  {
   "cell_type": "code",
   "execution_count": 148,
   "metadata": {},
   "outputs": [],
   "source": [
    "#4.variable length positional arguments \n",
    "\n",
    "#(*args)\n",
    "\n",
    "#variable length arguments are useful when you want to create functions that take an unlimited number of arguments.\n",
    "#unlimited like you do not know beforehand how many arguments can be passed to your function by the user.\n",
    "#this is referred to as var-args *args\n",
    "\n",
    "#when you prefix a parameter with an asterisk *, it collects all the unmatched positional arguments into a tuple. \n",
    "#Due to the fact that it is a normal tuple object, you can perform any operation that a tuple supports, like indexing, iteration etc.\n"
   ]
  },
  {
   "cell_type": "code",
   "execution_count": 149,
   "metadata": {},
   "outputs": [
    {
     "name": "stdout",
     "output_type": "stream",
     "text": [
      "(1, 54, 60, 8, 98, 12)\n"
     ]
    }
   ],
   "source": [
    "def print_arguments(*args):\n",
    "    print(args)\n",
    "    \n",
    "print_arguments(1,54,60,8,98,12)\n",
    "\n",
    "#args can also be another name but it must have * at the beginning"
   ]
  },
  {
   "cell_type": "code",
   "execution_count": 151,
   "metadata": {},
   "outputs": [],
   "source": [
    "#(**kwargs)\n",
    "\n",
    "#The ** syntax is similar, but it only works for keyword arguments.\n",
    "#it collects them into a new dictionary, where the argument names are the keys, and their values are the corresponding dictionary values."
   ]
  },
  {
   "cell_type": "code",
   "execution_count": 152,
   "metadata": {},
   "outputs": [
    {
     "name": "stdout",
     "output_type": "stream",
     "text": [
      "{'name': 'Bob', 'age': 25, 'job': 'dev'}\n"
     ]
    }
   ],
   "source": [
    "def print_arguments(**kwargs):\n",
    "    print(kwargs)\n",
    "    \n",
    "print_arguments(name='Bob',age=25,job='dev')"
   ]
  },
  {
   "cell_type": "code",
   "execution_count": 153,
   "metadata": {},
   "outputs": [
    {
     "name": "stdout",
     "output_type": "stream",
     "text": [
      "5\n"
     ]
    }
   ],
   "source": [
    "#RETURN VALUE\n",
    "#to return a value from a function, simply use a return statement. \n",
    "#once a return statement is executed, nothing else in the function body is executed\n",
    "\n",
    "#NOTE: A python function always returns a value so, if you do not include any return statement, it automatically returns NONE\n",
    "def sum(a,b):\n",
    "    c=a+b\n",
    "    return c\n",
    "\n",
    "s = sum(2,3)\n",
    "print(s)"
   ]
  },
  {
   "cell_type": "code",
   "execution_count": 155,
   "metadata": {},
   "outputs": [
    {
     "name": "stdout",
     "output_type": "stream",
     "text": [
      "(1, 5)\n"
     ]
    }
   ],
   "source": [
    "#RETURN MULTIPLE VALUES\n",
    "\n",
    "#Python has the ability to return multiple values, something missing from many other languages. you can do this by separating return values with a comma.\n",
    "\n",
    "def func(a,b):\n",
    "    return a-b,a+b\n",
    "\n",
    "result = func(3,2)\n",
    "print(result)"
   ]
  },
  {
   "cell_type": "code",
   "execution_count": 159,
   "metadata": {},
   "outputs": [],
   "source": [
    "#DOCSTRING\n",
    "\n",
    "#you can attach documentation to a function definition by including a string literal just after the function header.Docstrings are usually triple quoted to allow for multi-line descriptions. \n",
    "\n",
    "\n",
    "def hello():\n",
    "    \"\"\"This function prints\n",
    "            message on the screen\"\"\"\n",
    "    print(\"hello world!\")"
   ]
  },
  {
   "cell_type": "code",
   "execution_count": 160,
   "metadata": {},
   "outputs": [
    {
     "name": "stdout",
     "output_type": "stream",
     "text": [
      "Help on function hello in module __main__:\n",
      "\n",
      "hello()\n",
      "    This function prints\n",
      "    message on the screen\n",
      "\n"
     ]
    }
   ],
   "source": [
    "help(hello)"
   ]
  },
  {
   "cell_type": "code",
   "execution_count": 161,
   "metadata": {},
   "outputs": [],
   "source": [
    "#PYTHON CLASSES\n",
    "#classes and objects are the two main aspects of Object oriented programming\n",
    "# a class is a blueprint from which individual objects are created.\n",
    "#in real world, there may be thousands of cars in existence, all of the same make and model.\n",
    "#each car was built from the same set of blueprints, and therefore contains the same components. \n",
    "#in object oriented terms, we say that your car is an instance(object) of the class CAR."
   ]
  },
  {
   "cell_type": "code",
   "execution_count": 162,
   "metadata": {},
   "outputs": [],
   "source": [
    "#creating a class\n",
    "#to create your own custom object in python, you first need to define a class, using the keyword class"
   ]
  },
  {
   "cell_type": "code",
   "execution_count": 164,
   "metadata": {},
   "outputs": [],
   "source": [
    "class car:\n",
    "    pass"
   ]
  },
  {
   "cell_type": "code",
   "execution_count": 165,
   "metadata": {},
   "outputs": [],
   "source": [
    "#here the pass statement is used to indicate that this class is empty\n"
   ]
  },
  {
   "cell_type": "code",
   "execution_count": 166,
   "metadata": {},
   "outputs": [],
   "source": [
    "# the __init__() method\n",
    "#this is the special method that initializes an individual object \n",
    "#this method runs automatically each time an object of a class is created\n",
    "#this method is generally used to perform operations that are necessary before the object is created\n",
    "\n",
    "class Car:\n",
    "    def __init__(self):\n",
    "        pass\n",
    "    \n",
    "#The self parameter must be the first parameter always when you define an init method\n",
    "\n",
    "#The self parameter refers to the individual object itself. It is used to fetch or set attributes of the particular instance/\n",
    "\n",
    "#this paramter does not have to be called self, you can call it anything else.\n"
   ]
  },
  {
   "cell_type": "markdown",
   "metadata": {},
   "source": [
    "attributes\n",
    "every class you write in python has 2 basic features attributes and methods\n",
    "\n",
    "attributes = they are the individual things that differentiate one object from another. They determine the appearance, state, or other qualities of that obejct\n",
    "\n",
    "they are defined in classes by variables and each object can have its own values for those variables\n",
    "\n",
    "\n",
    "there are two types of attributes\n",
    "1. instance attribute\n",
    "2. class attribute\n"
   ]
  },
  {
   "cell_type": "code",
   "execution_count": 167,
   "metadata": {},
   "outputs": [],
   "source": [
    "#instance attribute - the instance attribute is a variable that is unique to each object(instance). \n",
    "#Every object of that class has its own copy of that variable. \n",
    "#Any changes made to the variable do not reflect in other objects of that class.\n",
    "\n",
    "class Car:\n",
    "    #initializer with instance attributes\n",
    "    def __init__(self,color,style):\n",
    "        #instance attributes\n",
    "        self.color=color\n",
    "        self.style=style\n",
    "        \n",
    "#initializer with instance attributes\n",
    "#a class with two instance attributes"
   ]
  },
  {
   "cell_type": "code",
   "execution_count": 168,
   "metadata": {},
   "outputs": [],
   "source": [
    "#class attribute - it is a variable that is the same for all objects. \n",
    "#there is only one copy of that variable that is shared with all objects\n",
    "#any changes made to that variable will reflect in all other objects\n"
   ]
  },
  {
   "cell_type": "code",
   "execution_count": 169,
   "metadata": {},
   "outputs": [],
   "source": [
    "class Car:\n",
    "    wheels = 4 #class attribute\n",
    "    def __init__(self,color,style):\n",
    "        self.color=color\n",
    "        self.style=style"
   ]
  },
  {
   "cell_type": "code",
   "execution_count": 170,
   "metadata": {},
   "outputs": [],
   "source": [
    "#creating an object\n",
    "#you create an object of a class by calling the class name and passing arguments as if it were a function\n"
   ]
  },
  {
   "cell_type": "code",
   "execution_count": 174,
   "metadata": {},
   "outputs": [],
   "source": [
    "class Car:\n",
    "    wheels=4\n",
    "    def __init__(self,color,style):\n",
    "        self.color = color\n",
    "        self.style = style\n",
    "\n",
    "    \n",
    "c=Car('Black','Sedan')\n",
    "#here we created a new object c from the car class by passing strings for the style (sedan) and color (black) parameters\n",
    "#we did not pass the self argument\n",
    "#when you create a new object, python automatically determines what self is (our newly-created object in this case) and passes it to the __init__ method."
   ]
  },
  {
   "cell_type": "code",
   "execution_count": 175,
   "metadata": {},
   "outputs": [
    {
     "name": "stdout",
     "output_type": "stream",
     "text": [
      "Sedan\n"
     ]
    }
   ],
   "source": [
    "#Attributes and modify attributes\n",
    "#the attributes of an instance are accessed and assigned to by using dot notation\n",
    "\n",
    "print(c.style)"
   ]
  },
  {
   "cell_type": "code",
   "execution_count": 176,
   "metadata": {},
   "outputs": [
    {
     "name": "stdout",
     "output_type": "stream",
     "text": [
      "Black\n"
     ]
    }
   ],
   "source": [
    "print(c.color)"
   ]
  },
  {
   "cell_type": "code",
   "execution_count": 177,
   "metadata": {},
   "outputs": [
    {
     "name": "stdout",
     "output_type": "stream",
     "text": [
      "SUV\n"
     ]
    }
   ],
   "source": [
    "c.style = 'SUV'\n",
    "print(c.style)"
   ]
  },
  {
   "cell_type": "markdown",
   "metadata": {},
   "source": [
    "#METHODS\n",
    "#methods determine what type of functionality a class has, how it handles its data, and its overall behavior.\n",
    "#without methods, a class would simply be a structure\n",
    "#in our case, the car class might have the following methods\n",
    "\n",
    "1. change color\n",
    "2. start engine\n",
    "3. stop engine\n",
    "4. change gear\n",
    "\n",
    "#just as there are instance and class attributes, there are also instance and class methods.\n",
    "#instance methods operate on an instance of a class, whereas class methods operate on the class itself. "
   ]
  },
  {
   "cell_type": "code",
   "execution_count": 186,
   "metadata": {},
   "outputs": [],
   "source": [
    "#1. instance methods\n",
    "\n",
    "#they are functions defined inside a class that operates on instances of that class\n",
    "\n",
    "class car:\n",
    "    wheels=4\n",
    "    def __init__(self,color,style):\n",
    "        self.color=color\n",
    "        self.style=style\n",
    "        \n",
    "    def showDescription(self):\n",
    "        print(\"This car is a \",self.color,self.style)\n",
    "        \n",
    "    def changeColor(self,color):\n",
    "        self.color=color\n",
    "    \n",
    "c1=car('Black','Sedan')"
   ]
  },
  {
   "cell_type": "code",
   "execution_count": 187,
   "metadata": {},
   "outputs": [
    {
     "name": "stdout",
     "output_type": "stream",
     "text": [
      "This car is a  Black Sedan\n"
     ]
    }
   ],
   "source": [
    "c1.showDescription()"
   ]
  },
  {
   "cell_type": "code",
   "execution_count": 189,
   "metadata": {},
   "outputs": [],
   "source": [
    "c1.changeColor('White')"
   ]
  },
  {
   "cell_type": "code",
   "execution_count": 190,
   "metadata": {},
   "outputs": [
    {
     "name": "stdout",
     "output_type": "stream",
     "text": [
      "This car is a  White Sedan\n"
     ]
    }
   ],
   "source": [
    "c1.showDescription()"
   ]
  },
  {
   "cell_type": "code",
   "execution_count": 192,
   "metadata": {},
   "outputs": [],
   "source": [
    "#DELETE attributes and objects\n",
    "#to delete any object attribute, use the del keyword\n",
    "\n",
    "del c1.color"
   ]
  },
  {
   "cell_type": "code",
   "execution_count": 194,
   "metadata": {},
   "outputs": [],
   "source": [
    "c1.changeColor('Red')"
   ]
  },
  {
   "cell_type": "code",
   "execution_count": 195,
   "metadata": {},
   "outputs": [
    {
     "name": "stdout",
     "output_type": "stream",
     "text": [
      "This car is a  Red Sedan\n"
     ]
    }
   ],
   "source": [
    "c1.showDescription()"
   ]
  },
  {
   "cell_type": "code",
   "execution_count": 196,
   "metadata": {},
   "outputs": [],
   "source": [
    "#MODULES\n",
    "#a module is a piece of software that has a specific functionality.\n",
    "#when building ping pong game, one module would be responsible for the game logic, and another module would be responsible for drawing the game logic, and another module would be responsible for drawing the game on the screen. \n",
    "#Each module is a different file, which can be edited separately. "
   ]
  },
  {
   "cell_type": "markdown",
   "metadata": {},
   "source": [
    "Important libraries in python for data science.\n",
    "Here are libraries that will take you places in your journey with Python. These are also the Python libraries for Data Science.\n",
    "\n",
    "1. Pandas\n",
    "\n",
    "Like we’ve said before, Pandas is a must for data-science. It provides fast, expressive, and flexible data structures to easily (and intuitively) work with structured (tabular,multidimensional, potentially heterogeneous) and time-series data.\n",
    "\n",
    " 2. NumPy\n",
    "\n",
    "It has advanced math functions and a rudimentary scientific computing package.\n",
    "\n",
    "3. Matplotlib\n",
    "\n",
    "Matplotlib helps with data analyzing, and is a numerical plotting library. \n",
    "\n",
    "4. SciPy\n",
    "\n",
    "SciPy has a number of user-friendly and efficient numerical routines. These include routines for optimization and numerical integration.\n",
    "\n",
    "5. SciKit-Learn\n",
    "\n",
    "This is an industry-standard for data science projects based in Python. Scikits is a group of packages in the SciPy Stack that were created for specific functionalities – for example, image processing. Scikit-learn uses the math operations of SciPy to expose a concise interface to the most common machine learning algorithms. \n",
    "\n",
    "Data scientists use it for handling standard machine learning and data mining tasks such as clustering, regression, model selection, dimensionality reduction, and classification. Another advantage? It comes with quality documentation and offers high performance. \n",
    "\n",
    "6. TensorFlow\n",
    "\n",
    "TensorFlow is a popular Python framework for machine learning and deep learning, which was developed at Google Brain. It's the best tool for tasks like object identification, speech recognition, and many others. It helps in working with artificial neural networks that need to handle multiple data sets.\n",
    "\n",
    "7.  PyTorch\n",
    "\n",
    "PyTorch is a framework that is perfect for data scientists who want to perform deep learning tasks easily. The tool allows performing tensor computations with GPU acceleration. It's also used for other tasks – for example, for creating dynamic computational graphs and calculating gradients automatically."
   ]
  },
  {
   "cell_type": "markdown",
   "metadata": {},
   "source": [
    "Installing Libraries in python\n",
    "Now we have seen python libraries and what they can be used for, lets see how we can install and use them. Here we are going to look at two different ways to install libraries in python.\n",
    "\n",
    "1. Installing libraries in colab\n",
    "\n",
    "One of the reasons colab is widely used is because it comes with some libraries for data science installed. There are times when you need to instal some libraries too.\n",
    "\n",
    "To import a library that's not in a Colab by default, you can use !pip install or !apt-get install.\n",
    "\n",
    "Pandas is installed in colab by default but i will use this to show you how to install libraries.\n",
    "\n",
    "!pip install pandas\n",
    "\n",
    "2. Installing libraries in Anaconda\n",
    "\n",
    "You can also use the graphical interface Anaconda Navigator to install conda packages with just a few clicks.\n",
    "\n",
    "Open an Anaconda Prompt (terminal on Linux or macOS) and follow these instructions.\n",
    "\n",
    "Enter the command:\n",
    "\n",
    "conda install package-name\n",
    "\n",
    "To install pandas you can enter the command;\n",
    "\n",
    "Conda install pandas\n",
    "\n",
    "Note that you can also install packages/ libraries on a jupyter notebook using the pip too,\n",
    "\n",
    "It uses the same syntax as colab\n",
    "\n",
    "!pip install pandas\n",
    "\n",
    "Importing libraries\n",
    "To import a library you use the import statement. For example to import the pandas library you run the command;\n",
    "\n",
    "import pandas\n",
    "\n",
    "In python you can import a library and rename it. What this means is that, when you have a library and its name is complex or too long for you to remember you can rename it to something simple or short.\n",
    "\n",
    "Syntax:\n",
    "\n",
    "Import package_name as new_name\n",
    "\n",
    " Here is an example, \n",
    "\n",
    "import pandas as pd\n",
    "\n",
    "You will notice as we go forward that this is the way most libraries will be imported. "
   ]
  },
  {
   "cell_type": "code",
   "execution_count": null,
   "metadata": {},
   "outputs": [],
   "source": []
  },
  {
   "cell_type": "code",
   "execution_count": null,
   "metadata": {},
   "outputs": [],
   "source": []
  },
  {
   "cell_type": "code",
   "execution_count": null,
   "metadata": {},
   "outputs": [],
   "source": []
  },
  {
   "cell_type": "code",
   "execution_count": null,
   "metadata": {},
   "outputs": [],
   "source": []
  },
  {
   "cell_type": "code",
   "execution_count": null,
   "metadata": {},
   "outputs": [],
   "source": []
  },
  {
   "cell_type": "code",
   "execution_count": null,
   "metadata": {},
   "outputs": [],
   "source": []
  },
  {
   "cell_type": "code",
   "execution_count": null,
   "metadata": {},
   "outputs": [],
   "source": []
  },
  {
   "cell_type": "code",
   "execution_count": null,
   "metadata": {},
   "outputs": [],
   "source": []
  },
  {
   "cell_type": "code",
   "execution_count": null,
   "metadata": {},
   "outputs": [],
   "source": []
  },
  {
   "cell_type": "code",
   "execution_count": null,
   "metadata": {},
   "outputs": [],
   "source": []
  },
  {
   "cell_type": "code",
   "execution_count": null,
   "metadata": {},
   "outputs": [],
   "source": []
  },
  {
   "cell_type": "code",
   "execution_count": null,
   "metadata": {},
   "outputs": [],
   "source": []
  },
  {
   "cell_type": "code",
   "execution_count": null,
   "metadata": {},
   "outputs": [],
   "source": []
  },
  {
   "cell_type": "code",
   "execution_count": null,
   "metadata": {},
   "outputs": [],
   "source": []
  },
  {
   "cell_type": "code",
   "execution_count": null,
   "metadata": {},
   "outputs": [],
   "source": []
  },
  {
   "cell_type": "code",
   "execution_count": null,
   "metadata": {},
   "outputs": [],
   "source": []
  }
 ],
 "metadata": {
  "kernelspec": {
   "display_name": "Python 3",
   "language": "python",
   "name": "python3"
  },
  "language_info": {
   "codemirror_mode": {
    "name": "ipython",
    "version": 3
   },
   "file_extension": ".py",
   "mimetype": "text/x-python",
   "name": "python",
   "nbconvert_exporter": "python",
   "pygments_lexer": "ipython3",
   "version": "3.8.3"
  }
 },
 "nbformat": 4,
 "nbformat_minor": 4
}
